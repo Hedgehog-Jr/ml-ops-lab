{
 "cells": [
  {
   "cell_type": "code",
   "execution_count": 1,
   "id": "ed09382f-e856-4738-a183-295444b1dd10",
   "metadata": {},
   "outputs": [],
   "source": [
    "import numpy as np\n",
    "import pandas as pd\n",
    "import pickle\n",
    "\n",
    "from sklearn.feature_extraction import DictVectorizer\n",
    "from sklearn.linear_model import LinearRegression\n",
    "from sklearn.metrics import root_mean_squared_error\n"
   ]
  },
  {
   "cell_type": "markdown",
   "id": "82040264-60fe-4b73-9342-4ebc889abe49",
   "metadata": {},
   "source": [
    "<h3>Q1. Downloading the data<h3>"
   ]
  },
  {
   "cell_type": "code",
   "execution_count": 2,
   "id": "193b683e-fe4d-4106-be56-aa8f99b56561",
   "metadata": {},
   "outputs": [
    {
     "name": "stdout",
     "output_type": "stream",
     "text": [
      "number of columns in dataframe: 19\n"
     ]
    }
   ],
   "source": [
    "df_train = pd.read_parquet('../test_data/yellow_tripdata_2023-01.parquet')\n",
    "print(f'number of columns in dataframe: {df_train.shape[1]}')"
   ]
  },
  {
   "cell_type": "markdown",
   "id": "14f21a10-21b2-4817-ae9a-1fb44399ff7c",
   "metadata": {},
   "source": [
    "<h3>Q2. Computing duration<h3>"
   ]
  },
  {
   "cell_type": "code",
   "execution_count": 3,
   "id": "756e4842-8fb2-47b3-9eda-c158a0ac0d87",
   "metadata": {},
   "outputs": [],
   "source": [
    "def calculate_duration(df):\n",
    "    df['duration'] = df.tpep_dropoff_datetime - df.tpep_pickup_datetime\n",
    "    df.duration = df.duration.apply(lambda td: td.total_seconds() / 60)\n",
    "\n",
    "    return df"
   ]
  },
  {
   "cell_type": "code",
   "execution_count": 4,
   "id": "03377e03-d443-463e-bece-9dd2f5d3ef6b",
   "metadata": {},
   "outputs": [
    {
     "name": "stdout",
     "output_type": "stream",
     "text": [
      "the standard deviation of the trips duration in January: 42.59434429744777\n"
     ]
    }
   ],
   "source": [
    "df_train = calculate_duration(df_train)\n",
    "\n",
    "std_dev = np.std(df_train['duration'])\n",
    "print(f'the standard deviation of the trips duration in January: {std_dev}')"
   ]
  },
  {
   "cell_type": "markdown",
   "id": "488aa864-d4ae-40b7-bac2-f1ced413851d",
   "metadata": {},
   "source": [
    "<h3>Q3. Dropping outliers<h3>"
   ]
  },
  {
   "cell_type": "code",
   "execution_count": 5,
   "id": "bd7fc48e-92f4-421d-bdd1-d8bf1d7f11f7",
   "metadata": {},
   "outputs": [],
   "source": [
    "def drop_outliers(df):\n",
    "    df = df[(df.duration >= 1) & (df.duration <= 60)]\n",
    "\n",
    "    return df"
   ]
  },
  {
   "cell_type": "code",
   "execution_count": 6,
   "id": "e62ddcbb-8b21-4f29-8330-e24c654eb265",
   "metadata": {},
   "outputs": [
    {
     "name": "stdout",
     "output_type": "stream",
     "text": [
      "Fraction of the records remaining after screening outliers 98.1220282212598\n"
     ]
    }
   ],
   "source": [
    "raw_count = df_train.shape[0]\n",
    "\n",
    "df_train = drop_outliers(df_train)\n",
    "\n",
    "fraction = 100 * df_train.shape[0] / raw_count\n",
    "print(f'Fraction of the records remaining after screening outliers {fraction}')"
   ]
  },
  {
   "cell_type": "markdown",
   "id": "d889a55e-6c19-4bde-a0c4-6db03401f8bd",
   "metadata": {},
   "source": [
    "<h3>Q4. One-hot encoding<h3>"
   ]
  },
  {
   "cell_type": "code",
   "execution_count": 7,
   "id": "0f3c05e7-56a1-470f-b4ef-6b12380903c2",
   "metadata": {},
   "outputs": [
    {
     "name": "stdout",
     "output_type": "stream",
     "text": [
      "The dimensionality of the feature matrix: 515\n"
     ]
    }
   ],
   "source": [
    "categorical = ['PULocationID', 'DOLocationID']\n",
    "\n",
    "df_train[categorical] = df_train[categorical].astype(str)\n",
    "\n",
    "train_dicts = df_train[categorical].to_dict(orient='records')\n",
    "\n",
    "dv = DictVectorizer()\n",
    "X_train = dv.fit_transform(train_dicts)\n",
    "\n",
    "print(f'The dimensionality of the feature matrix: {X_train.shape[1]}')"
   ]
  },
  {
   "cell_type": "markdown",
   "id": "dfd14c81-0e33-48c1-8d9b-f352b638e7e8",
   "metadata": {},
   "source": [
    "<h3>Q5. Training a model<h3>"
   ]
  },
  {
   "cell_type": "code",
   "execution_count": 8,
   "id": "f66f2ce0-c4d8-4d3d-afe0-62f424d5a921",
   "metadata": {},
   "outputs": [
    {
     "name": "stdout",
     "output_type": "stream",
     "text": [
      "RMSE on train: 7.649262183753913\n"
     ]
    }
   ],
   "source": [
    "target = 'duration'\n",
    "y_train = df_train[target].values\n",
    "\n",
    "lr = LinearRegression()\n",
    "lr.fit(X_train, y_train)\n",
    "\n",
    "y_pred = lr.predict(X_train)\n",
    "\n",
    "rmse_train = root_mean_squared_error(y_train, y_pred)\n",
    "\n",
    "print(f'RMSE on train: {rmse_train}')"
   ]
  },
  {
   "cell_type": "markdown",
   "id": "8d008f99-40fe-45a9-94ff-095fb7e9fd05",
   "metadata": {},
   "source": [
    "<h3>Q6. Evaluating the model<h3>"
   ]
  },
  {
   "cell_type": "code",
   "execution_count": 11,
   "id": "e9c80dbc-53f8-434c-ba8f-3beafeae8938",
   "metadata": {},
   "outputs": [
    {
     "name": "stdout",
     "output_type": "stream",
     "text": [
      "RMSE on valid: 7.811812092681157\n"
     ]
    }
   ],
   "source": [
    "df_val = pd.read_parquet('../test_data/yellow_tripdata_2023-02.parquet')\n",
    "df_val = calculate_duration(df_val)\n",
    "df_val = drop_outliers(df_val)\n",
    "\n",
    "categorical = ['PULocationID', 'DOLocationID']\n",
    "df_val[categorical] = df_val[categorical].astype(str)\n",
    "\n",
    "val_dicts = df_val[categorical].to_dict(orient='records')\n",
    "X_val = dv.transform(val_dicts)\n",
    "y_val = df_val[target].values\n",
    "\n",
    "y_pred = lr.predict(X_val)\n",
    "rmse_pred = root_mean_squared_error(y_val, y_pred)\n",
    "\n",
    "print(f'RMSE on valid: {rmse_pred}')"
   ]
  }
 ],
 "metadata": {
  "kernelspec": {
   "display_name": "Python 3 (ipykernel)",
   "language": "python",
   "name": "python3"
  },
  "language_info": {
   "codemirror_mode": {
    "name": "ipython",
    "version": 3
   },
   "file_extension": ".py",
   "mimetype": "text/x-python",
   "name": "python",
   "nbconvert_exporter": "python",
   "pygments_lexer": "ipython3",
   "version": "3.11.9"
  }
 },
 "nbformat": 4,
 "nbformat_minor": 5
}
