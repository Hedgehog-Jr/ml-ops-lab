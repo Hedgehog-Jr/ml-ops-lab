{
 "cells": [
  {
   "cell_type": "code",
   "execution_count": 9,
   "id": "2c51efaa",
   "metadata": {},
   "outputs": [
    {
     "name": "stdout",
     "output_type": "stream",
     "text": [
      "scikit-learn==1.5.0\n"
     ]
    }
   ],
   "source": [
    "!pip freeze | grep scikit-learn\n",
    "# !pip install scikit-learn==1.5.0"
   ]
  },
  {
   "cell_type": "code",
   "execution_count": 10,
   "id": "4acf73a0-51b5-4663-9bb8-8eb947863e17",
   "metadata": {},
   "outputs": [
    {
     "name": "stdout",
     "output_type": "stream",
     "text": [
      "Python 3.11.9\n"
     ]
    }
   ],
   "source": [
    "!python -V"
   ]
  },
  {
   "cell_type": "code",
   "execution_count": 11,
   "id": "0ef880a0",
   "metadata": {},
   "outputs": [],
   "source": [
    "import pickle\n",
    "import pandas as pd"
   ]
  },
  {
   "cell_type": "code",
   "execution_count": 12,
   "id": "7836ccfd",
   "metadata": {},
   "outputs": [],
   "source": [
    "with open('model.bin', 'rb') as f_in:\n",
    "    dv, model = pickle.load(f_in)"
   ]
  },
  {
   "cell_type": "code",
   "execution_count": 13,
   "id": "41c08294",
   "metadata": {},
   "outputs": [],
   "source": [
    "categorical = ['PULocationID', 'DOLocationID']\n",
    "\n",
    "def read_data(filename):\n",
    "    df = pd.read_parquet(filename)\n",
    "    \n",
    "    df['duration'] = df.tpep_dropoff_datetime - df.tpep_pickup_datetime\n",
    "    df['duration'] = df.duration.dt.total_seconds() / 60\n",
    "\n",
    "    df = df[(df.duration >= 1) & (df.duration <= 60)].copy()\n",
    "\n",
    "    df[categorical] = df[categorical].fillna(-1).astype('int').astype('str')\n",
    "    \n",
    "    return df"
   ]
  },
  {
   "cell_type": "code",
   "execution_count": 14,
   "id": "0e47369d-5379-40c0-8b89-eddc3ad3ce42",
   "metadata": {},
   "outputs": [],
   "source": [
    "year = 2023\n",
    "month = 3\n",
    "input_path = f'https://d37ci6vzurychx.cloudfront.net/trip-data/yellow_tripdata_{year:04d}-{month:02d}.parquet'\n",
    "output_path = f'output/yellow_tripdata_{year:04d}-{month:02d}.parquet'"
   ]
  },
  {
   "cell_type": "code",
   "execution_count": 15,
   "id": "4854399a",
   "metadata": {},
   "outputs": [],
   "source": [
    "df = read_data(input_path)"
   ]
  },
  {
   "cell_type": "code",
   "execution_count": 16,
   "id": "669fda0a",
   "metadata": {},
   "outputs": [],
   "source": [
    "dicts = df[categorical].to_dict(orient='records')\n",
    "X_val = dv.transform(dicts)\n",
    "y_pred = model.predict(X_val)"
   ]
  },
  {
   "cell_type": "markdown",
   "id": "05016ca7-6370-44c4-a2bc-f53031f81834",
   "metadata": {},
   "source": [
    "<h3>Q1. Notebook. The standard deviation of the predicted duration for this dataset is</h3>"
   ]
  },
  {
   "cell_type": "code",
   "execution_count": 17,
   "id": "bf532ae7-1897-428c-ba0c-875ccaf7d76c",
   "metadata": {},
   "outputs": [
    {
     "data": {
      "text/plain": [
       "np.float64(6.247488852238703)"
      ]
     },
     "execution_count": 17,
     "metadata": {},
     "output_type": "execute_result"
    }
   ],
   "source": [
    "y_pred.std()"
   ]
  },
  {
   "cell_type": "markdown",
   "id": "7b2e1341-a3c9-492a-bf13-f45db4f8ef79",
   "metadata": {},
   "source": [
    "<h3>Q2. Preparing the output</h3>"
   ]
  },
  {
   "cell_type": "code",
   "execution_count": 18,
   "id": "e3e90481-d184-44cb-bd0c-7ffc5c0cb8f9",
   "metadata": {},
   "outputs": [
    {
     "name": "stdout",
     "output_type": "stream",
     "text": [
      "total 458776\n",
      "-rw-r--r--  1 pavel_ozhych  staff    65M Oct  7 19:13 yellow_tripdata_2023-03.parquet\n",
      "-rw-r--r--  1 pavel_ozhych  staff    63M Oct  7 17:37 yellow_tripdata_2023-04.parquet\n",
      "-rw-r--r--  1 pavel_ozhych  staff    67M Oct  7 18:21 yellow_tripdata_2023-05.parquet\n"
     ]
    }
   ],
   "source": [
    "df['ride_id'] = f'{year:04d}/{month:02d}_' + df.index.astype('str')\n",
    "df_output = pd.DataFrame()\n",
    "df_output['ride_id'] = df['ride_id']\n",
    "df_output['predicted_duration'] = y_pred\n",
    "\n",
    "df_output.to_parquet(\n",
    "    output_path,\n",
    "    engine='pyarrow',\n",
    "    compression=None,\n",
    "    index=False\n",
    ")\n",
    "\n",
    "!ls -lh output"
   ]
  },
  {
   "cell_type": "markdown",
   "id": "e7361a05-b7de-44cd-8d22-42d128748272",
   "metadata": {},
   "source": [
    "<h3>Q3. Creating the scoring script</h3>"
   ]
  },
  {
   "cell_type": "code",
   "execution_count": 4,
   "id": "c792a373-543f-4f0a-a635-a3ffce98e3a1",
   "metadata": {},
   "outputs": [
    {
     "name": "stdout",
     "output_type": "stream",
     "text": [
      "[NbConvertApp] Converting notebook starter.ipynb to script\n",
      "[NbConvertApp] Writing 1727 bytes to starter.py\n"
     ]
    }
   ],
   "source": [
    "!jupyter nbconvert --to script starter.ipynb"
   ]
  }
 ],
 "metadata": {
  "kernelspec": {
   "display_name": "Python 3 (ipykernel)",
   "language": "python",
   "name": "python3"
  },
  "language_info": {
   "codemirror_mode": {
    "name": "ipython",
    "version": 3
   },
   "file_extension": ".py",
   "mimetype": "text/x-python",
   "name": "python",
   "nbconvert_exporter": "python",
   "pygments_lexer": "ipython3",
   "version": "3.11.9"
  }
 },
 "nbformat": 4,
 "nbformat_minor": 5
}
